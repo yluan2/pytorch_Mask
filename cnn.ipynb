{
 "cells": [
  {
   "source": [
    "# NS_03 Group Project"
   ],
   "cell_type": "markdown",
   "metadata": {}
  },
  {
   "source": [
    "## Part1"
   ],
   "cell_type": "markdown",
   "metadata": {}
  },
  {
   "cell_type": "code",
   "execution_count": 37,
   "metadata": {},
   "outputs": [],
   "source": [
    "import torch\n",
    "import os\n",
    "from torchvision.datasets import ImageFolder\n",
    "from torchvision import transforms\n",
    "from torch.utils.data import DataLoader\n",
    "from PIL import Image\n",
    "import numpy as np\n",
    "\n",
    "import torch.nn as nn\n",
    "import torch.nn.functional as F\n",
    "import torch.optim as optim\n",
    "\n",
    "import datetime\n",
    "import sklearn.metrics"
   ]
  },
  {
   "cell_type": "code",
   "execution_count": 38,
   "metadata": {},
   "outputs": [],
   "source": [
    "# load data_set, and calculate the mean and std of dataset\n",
    "\n",
    "# transform = transforms.Compose([\n",
    "#     transforms.Resize((256, 256)),  # 缩放到224 * 224\n",
    "#     transforms.ToTensor()\n",
    "# ])\n",
    "\n",
    "# # 0 -> mask  1-> nonmask  2 -> not a person\n",
    "# train_dataset = ImageFolder('./data/train', transform=transform)\n",
    "\n",
    "# # calculate mean of imgs in each RGB channel\n",
    "# imgs = torch.stack([img_t for img_t, _ in train_dataset], dim=3)\n",
    "# print(imgs.shape)\n",
    "\n",
    "# imgs.view(3, -1).mean(dim=1)  # mean of (number of imgs) in each channel\n",
    "# imgs.view(3, -1).std(dim=1) # std of (number of imgs) in each channel"
   ]
  },
  {
   "cell_type": "code",
   "execution_count": 39,
   "metadata": {},
   "outputs": [],
   "source": [
    "# load dataset, normarlize it\n",
    "transform = transforms.Compose([\n",
    "    transforms.Resize((256, 256)),  # 缩放到224 * 224\n",
    "    # transforms.CenterCrop(256)   #中心剪裁后四周padding补充 (后续可以padding)\n",
    "    transforms.ToTensor(),\n",
    "    transforms.Normalize(mean=[0.4990, 0.4567, 0.4188], std=[0.2913, 0.2778, 0.2836]) \n",
    "])\n",
    "\n",
    "# 0 -> mask  1-> nonmask  2 -> not a person\n",
    "train_dataset = ImageFolder('./data/train', transform=transform)\n",
    "train_dataloader = DataLoader(train_dataset, batch_size=32, shuffle=True)\n",
    "\n",
    "test_dataset = ImageFolder('./data/test', transform=transform)\n",
    "test_dataloader = DataLoader(test_dataset, batch_size=32, shuffle=True)"
   ]
  },
  {
   "cell_type": "code",
   "execution_count": 40,
   "metadata": {},
   "outputs": [],
   "source": [
    "# cnn model\n",
    "\n",
    "class CNN(nn.Module):\n",
    "    def __init__(self):\n",
    "        super().__init__()\n",
    "        self.conv_layer = nn.Sequential(\n",
    "            nn.Conv2d(3, 16, kernel_size=3, padding=1), # in=3x256x256; out=32x256x256\n",
    "            nn.ReLU(),\n",
    "            nn.MaxPool2d(2), # out=32x128x128\n",
    "            nn.Conv2d(16, 16, kernel_size=3, padding=1), # in=32x128x128, out=16x128x128\n",
    "            nn.ReLU(),\n",
    "            nn.MaxPool2d(2), # out=16x64x64\n",
    "            nn.Conv2d(16, 32, kernel_size=3, padding=1), # in=16x64x64, out=8x64x64\n",
    "            nn.ReLU(),\n",
    "            nn.MaxPool2d(2), # out=8x32x32,\n",
    "            nn.Conv2d(32, 64, kernel_size=3, padding=1),\n",
    "            nn.ReLU(),\n",
    "            nn.MaxPool2d(2) # 16x16\n",
    "        )\n",
    "        \n",
    "        self.fc_layer = nn.Sequential(\n",
    "            nn.Dropout(p=0.1),\n",
    "            nn.Linear(64*16*16, 1024),\n",
    "            nn.ReLU(),\n",
    "            nn.Dropout(p=0.1),\n",
    "            nn.Linear(1024, 32),\n",
    "            nn.ReLU(),\n",
    "            nn.Dropout(p=0.1),\n",
    "            nn.Linear(32, 3)\n",
    "        )\n",
    "    \n",
    "    def forward(self, x):\n",
    "        # conv layer\n",
    "        x = self.conv_layer(x)\n",
    "        \n",
    "        # flatten\n",
    "        x = x.view(x.size(0), -1)\n",
    "        \n",
    "        # fc layer\n",
    "        x = self.fc_layer(x)\n",
    "        \n",
    "        return x\n"
   ]
  },
  {
   "cell_type": "code",
   "execution_count": 41,
   "metadata": {},
   "outputs": [
    {
     "output_type": "stream",
     "name": "stdout",
     "text": [
      "Training on device cpu.\n"
     ]
    }
   ],
   "source": [
    "device = (torch.device('cuda') if torch.cuda.is_available() \n",
    "         else torch.device('cpu'))\n",
    "print(f\"Training on device {device}.\")"
   ]
  },
  {
   "cell_type": "code",
   "execution_count": 42,
   "metadata": {},
   "outputs": [],
   "source": [
    "# define train_loop function\n",
    "def train_loop(n_epochs, optimizer, model, loss_fn, train_loader):\n",
    "    for epoch in range(1, n_epochs + 1):\n",
    "        loss_train = 0.0\n",
    "        for imgs, labels in train_dataloader: # loop over batches in dataset\n",
    "            # move data to GPU if available\n",
    "            imgs = imgs.to(device=device)  \n",
    "            labels = labels.to(device=device)\n",
    "            \n",
    "            outputs = model(imgs)  # feed a batch through our model\n",
    "            \n",
    "            loss = loss_fn(outputs, labels)  # computes the loss\n",
    "            \n",
    "            optimizer.zero_grad()  # getting rid of the gradients from the last round\n",
    "            \n",
    "            loss.backward()  # performs backward step, compute the gradients of all parameters\n",
    "            \n",
    "            optimizer.step()  # updates the model\n",
    "            \n",
    "            loss_train += loss.item() # sums of losses we saw over the epoch\n",
    "            \n",
    "        # print the average loss per batch, in epoch%10 == 0 \n",
    "        print('{} Epoch {}, Training loss {}'.format(\n",
    "            datetime.datetime.now(), epoch, loss_train/len(train_loader)\n",
    "        ))"
   ]
  },
  {
   "cell_type": "code",
   "execution_count": 43,
   "metadata": {},
   "outputs": [
    {
     "output_type": "execute_result",
     "data": {
      "text/plain": [
       "(16837043,\n",
       " [432, 16, 2304, 16, 4608, 32, 18432, 64, 16777216, 1024, 32768, 32, 96, 3])"
      ]
     },
     "metadata": {},
     "execution_count": 43
    }
   ],
   "source": [
    "model = CNN().to(device=device)  # instantiates cnn model\n",
    "\n",
    "numel_list = [p.numel() for p in model.parameters()]\n",
    "sum(numel_list), numel_list   # number of parameters, and their shapes"
   ]
  },
  {
   "cell_type": "code",
   "execution_count": 44,
   "metadata": {},
   "outputs": [],
   "source": [
    "# perform training\n",
    "\n",
    "learning_rate = 0.001\n",
    "# optimizer = optim.SGD(model.parameters(), lr=learning_rate)\n",
    "optimizer = optim.Adam(model.parameters(), lr=learning_rate)\n",
    "loss_fn = nn.CrossEntropyLoss()  # use cross entropy loss function\n",
    "\n",
    "if 'my_model_2.pkl' not in os.listdir():\n",
    "    # call train_loop() function\n",
    "    train_loop(\n",
    "        n_epochs = 15,\n",
    "        optimizer = optimizer,\n",
    "        model = model,\n",
    "        loss_fn = loss_fn,\n",
    "        train_loader = train_dataloader\n",
    "    )\n",
    "    torch.save(model, 'my_model_2.pkl')\n",
    "else:\n",
    "    model = torch.load('my_model_2.pkl')"
   ]
  },
  {
   "cell_type": "code",
   "execution_count": 45,
   "metadata": {},
   "outputs": [],
   "source": [
    "# define validate function\n",
    "def validate(model, loaders, names):\n",
    "    model.eval()\n",
    "    # accuracy on training data and test data\n",
    "    for name, loader in zip(names, loaders):\n",
    "        correct = 0\n",
    "        total = 0\n",
    "        total_predicted = []\n",
    "        total_labels = []\n",
    "        \n",
    "        with torch.no_grad(): # do not want gradients here, as we will not want to update parameters\n",
    "            for imgs, labels in loader:\n",
    "                # move data to GPU if available\n",
    "                imgs = imgs.to(device=device)  \n",
    "                labels = labels.to(device=device)\n",
    "                total_labels.append(labels)\n",
    "                \n",
    "                # feed input to models\n",
    "                outputs = model(imgs)  \n",
    "                \n",
    "                # gives the index of the highest value as output\n",
    "                _, predicted = torch.max(outputs, dim=1)  \n",
    "                total_predicted.append(predicted)\n",
    "                \n",
    "                # counts the number of example, total is increased by the batch size\n",
    "                total += labels.shape[0]  \n",
    "            \n",
    "                # the prediction and ground truth agree\n",
    "                correct += int((predicted == labels).sum()) \n",
    "                \n",
    "        total_predicted = torch.hstack(total_predicted).cpu()\n",
    "        total_labels = torch.hstack(total_labels).cpu()\n",
    "        \n",
    "        print(\"Accuracy {}: {:.2f}\".format(name, correct / total))  \n",
    "        print(sklearn.metrics.classification_report(total_labels, total_predicted))\n",
    "        print(sklearn.metrics.confusion_matrix(total_labels, total_predicted))"
   ]
  },
  {
   "cell_type": "code",
   "execution_count": 46,
   "metadata": {},
   "outputs": [
    {
     "output_type": "stream",
     "name": "stdout",
     "text": [
      "Accuracy train: 1.00\n",
      "              precision    recall  f1-score   support\n",
      "\n",
      "           0       1.00      0.99      0.99       284\n",
      "           1       0.99      1.00      1.00       338\n",
      "           2       1.00      1.00      1.00       576\n",
      "\n",
      "    accuracy                           1.00      1198\n",
      "   macro avg       1.00      1.00      1.00      1198\n",
      "weighted avg       1.00      1.00      1.00      1198\n",
      "\n",
      "[[281   1   2]\n",
      " [  0 338   0]\n",
      " [  0   2 574]]\n",
      "Accuracy test: 0.84\n",
      "              precision    recall  f1-score   support\n",
      "\n",
      "           0       0.93      0.69      0.79       123\n",
      "           1       0.88      0.94      0.91       124\n",
      "           2       0.74      0.91      0.82       102\n",
      "\n",
      "    accuracy                           0.84       349\n",
      "   macro avg       0.85      0.85      0.84       349\n",
      "weighted avg       0.86      0.84      0.84       349\n",
      "\n",
      "[[ 85  11  27]\n",
      " [  2 116   6]\n",
      " [  4   5  93]]\n"
     ]
    }
   ],
   "source": [
    "# measuring accuracy\n",
    "validate(model, [train_dataloader, test_dataloader], ['train', 'test'])"
   ]
  },
  {
   "source": [
    "## Part 2"
   ],
   "cell_type": "markdown",
   "metadata": {}
  },
  {
   "source": [
    "- Run model on Female test dataset and Male dataset, evaluate their performances.\n",
    "- Compare their performances, check whether our model has gender bias."
   ],
   "cell_type": "markdown",
   "metadata": {}
  },
  {
   "cell_type": "code",
   "execution_count": 47,
   "metadata": {},
   "outputs": [
    {
     "output_type": "stream",
     "name": "stdout",
     "text": [
      "Accuracy Male: 0.81\n",
      "              precision    recall  f1-score   support\n",
      "\n",
      "           0       1.00      0.62      0.77        93\n",
      "           1       0.84      0.98      0.91       105\n",
      "           2       0.00      0.00      0.00         0\n",
      "\n",
      "    accuracy                           0.81       198\n",
      "   macro avg       0.61      0.53      0.56       198\n",
      "weighted avg       0.92      0.81      0.84       198\n",
      "\n",
      "[[ 58  19  16]\n",
      " [  0 103   2]\n",
      " [  0   0   0]]\n",
      "Accuracy Female: 0.84\n",
      "              precision    recall  f1-score   support\n",
      "\n",
      "           0       0.97      0.73      0.83        91\n",
      "           1       0.94      0.94      0.94       109\n",
      "           2       0.00      0.00      0.00         0\n",
      "\n",
      "    accuracy                           0.84       200\n",
      "   macro avg       0.64      0.56      0.59       200\n",
      "weighted avg       0.96      0.84      0.89       200\n",
      "\n",
      "[[ 66   6  19]\n",
      " [  2 103   4]\n",
      " [  0   0   0]]\n"
     ]
    }
   ],
   "source": [
    "device = (torch.device('cuda') if torch.cuda.is_available() else torch.device('cpu'))\n",
    "\n",
    "male_dataset = ImageFolder('./data/test_male', transform=transform)\n",
    "male_dataloader = DataLoader(male_dataset, batch_size=32, shuffle=True)\n",
    "\n",
    "\n",
    "female_dataset = ImageFolder('./data/test_female', transform=transform)\n",
    "female_dataloader = DataLoader(female_dataset, batch_size=32, shuffle=True)\n",
    "\n",
    "validate(model, [male_dataloader, female_dataloader], ['Male', 'Female'])\n"
   ]
  },
  {
   "source": [
    "Accuracy of female is 0.84, while accuracy of male is 0.81. Our model has a bias of predicting male with mask as not wearing mask incorrectly.\n",
    "\n",
    "The reason for this gender bias is that our training dataset is not balance in terms of gender. For example, the training images in Mask folder contains 164 female images, and only 120 male images.\n",
    "\n",
    "To address this bias, we modified our training dataset, and balanced the number of male images and female images. And then re-training our cnn model on this balanced dataset."
   ],
   "cell_type": "markdown",
   "metadata": {}
  },
  {
   "cell_type": "code",
   "execution_count": 49,
   "metadata": {},
   "outputs": [],
   "source": [
    "# load balanced dataset\n",
    "train_balance_dataset = ImageFolder('./data/train_balance', transform=transform)\n",
    "train_balance_dataloader = DataLoader(train_balance_dataset, batch_size=32, shuffle=True)\n",
    "\n",
    "# perform training\n",
    "model_retrained = CNN().to(device=device) \n",
    "learning_rate = 0.001\n",
    "optimizer = optim.Adam(model_retrained.parameters(), lr=learning_rate)\n",
    "loss_fn = nn.CrossEntropyLoss()  # use cross entropy loss function\n",
    "\n",
    "if 'my_model_balance.pkl' not in os.listdir():\n",
    "    # call train_loop() function\n",
    "    train_loop(\n",
    "        n_epochs = 15,\n",
    "        optimizer = optimizer,\n",
    "        model = model_retrained,\n",
    "        loss_fn = loss_fn,\n",
    "        train_loader = train_balance_dataloader\n",
    "    )\n",
    "    torch.save(model_retrained, 'my_model_balance.pkl')\n",
    "else:\n",
    "    model_retrained = torch.load('my_model_balance.pkl')"
   ]
  },
  {
   "cell_type": "code",
   "execution_count": 50,
   "metadata": {},
   "outputs": [
    {
     "output_type": "stream",
     "name": "stdout",
     "text": [
      "Accuracy train: 0.99\n",
      "              precision    recall  f1-score   support\n",
      "\n",
      "           0       0.99      0.97      0.98       327\n",
      "           1       0.99      0.99      0.99       338\n",
      "           2       0.99      1.00      0.99       576\n",
      "\n",
      "    accuracy                           0.99      1241\n",
      "   macro avg       0.99      0.99      0.99      1241\n",
      "weighted avg       0.99      0.99      0.99      1241\n",
      "\n",
      "[[316   3   8]\n",
      " [  2 336   0]\n",
      " [  1   1 574]]\n",
      "Accuracy test: 0.89\n",
      "              precision    recall  f1-score   support\n",
      "\n",
      "           0       0.92      0.84      0.88       123\n",
      "           1       0.93      0.91      0.92       124\n",
      "           2       0.81      0.91      0.86       102\n",
      "\n",
      "    accuracy                           0.89       349\n",
      "   macro avg       0.88      0.89      0.88       349\n",
      "weighted avg       0.89      0.89      0.89       349\n",
      "\n",
      "[[103   6  14]\n",
      " [  3 113   8]\n",
      " [  6   3  93]]\n"
     ]
    }
   ],
   "source": [
    "# evaluation on training and test dataset\n",
    "validate(model_retrained, [train_balance_dataloader, test_dataloader], ['train', 'test'])"
   ]
  },
  {
   "cell_type": "code",
   "execution_count": 51,
   "metadata": {},
   "outputs": [
    {
     "output_type": "stream",
     "name": "stdout",
     "text": [
      "Accuracy Male: 0.85\n",
      "              precision    recall  f1-score   support\n",
      "\n",
      "           0       0.99      0.75      0.85        93\n",
      "           1       0.92      0.93      0.93       105\n",
      "           2       0.00      0.00      0.00         0\n",
      "\n",
      "    accuracy                           0.85       198\n",
      "   macro avg       0.64      0.56      0.59       198\n",
      "weighted avg       0.95      0.85      0.89       198\n",
      "\n",
      "[[70  8 15]\n",
      " [ 1 98  6]\n",
      " [ 0  0  0]]\n",
      "Accuracy Female: 0.91\n",
      "              precision    recall  f1-score   support\n",
      "\n",
      "           0       0.97      0.86      0.91        91\n",
      "           1       0.96      0.95      0.96       109\n",
      "           2       0.00      0.00      0.00         0\n",
      "\n",
      "    accuracy                           0.91       200\n",
      "   macro avg       0.65      0.60      0.62       200\n",
      "weighted avg       0.97      0.91      0.94       200\n",
      "\n",
      "[[ 78   4   9]\n",
      " [  2 104   3]\n",
      " [  0   0   0]]\n"
     ]
    }
   ],
   "source": [
    "# evaluation on Female and Male test dataset\n",
    "validate(model_retrained, [male_dataloader, female_dataloader], ['Male', 'Female'])"
   ]
  },
  {
   "cell_type": "code",
   "execution_count": null,
   "metadata": {},
   "outputs": [],
   "source": []
  }
 ],
 "metadata": {
  "kernelspec": {
   "name": "python385jvsc74a57bd016ee118533bcd0f1230a20fb580d8eca5f1b087686cdfb5f5e4aa17bc8bba119",
   "display_name": "Python 3.8.5 64-bit ('base': conda)"
  },
  "language_info": {
   "codemirror_mode": {
    "name": "ipython",
    "version": 3
   },
   "file_extension": ".py",
   "mimetype": "text/x-python",
   "name": "python",
   "nbconvert_exporter": "python",
   "pygments_lexer": "ipython3",
   "version": "3.8.5"
  }
 },
 "nbformat": 4,
 "nbformat_minor": 4
}